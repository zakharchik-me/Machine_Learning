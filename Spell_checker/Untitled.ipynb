{
 "cells": [
  {
   "cell_type": "code",
   "execution_count": 3,
   "id": "b931322a",
   "metadata": {},
   "outputs": [],
   "source": [
    "### Installing the basic libraryes"
   ]
  },
  {
   "cell_type": "code",
   "execution_count": 4,
   "id": "a96a5ac2",
   "metadata": {},
   "outputs": [
    {
     "name": "stdout",
     "output_type": "stream",
     "text": [
      "%pylab is deprecated, use %matplotlib inline and import the required libraries.\n",
      "Populating the interactive namespace from numpy and matplotlib\n"
     ]
    }
   ],
   "source": [
    "%pylab inline\n",
    "import re\n",
    "import math\n",
    "import string\n",
    "from collections import Counter\n",
    "import requests"
   ]
  },
  {
   "cell_type": "code",
   "execution_count": null,
   "id": "4cd6a5b0",
   "metadata": {},
   "outputs": [],
   "source": [
    "### We ll take the database with words from Piter Novik - google director of researches"
   ]
  },
  {
   "cell_type": "code",
   "execution_count": 5,
   "id": "f15ddcfb",
   "metadata": {},
   "outputs": [],
   "source": [
    "TEXT = requests.get('https://norvig.com/big.txt').text"
   ]
  },
  {
   "cell_type": "code",
   "execution_count": 6,
   "id": "27de0130",
   "metadata": {},
   "outputs": [],
   "source": [
    "# devide the text into the separate words by regular (re) func\n",
    "def tokens(text):\n",
    "    return re.findall(r'[a-z]+', text.lower()) "
   ]
  },
  {
   "cell_type": "code",
   "execution_count": 9,
   "id": "5476e56c",
   "metadata": {},
   "outputs": [
    {
     "data": {
      "text/plain": [
       "['this', 'is', 'a', 'test', 'input']"
      ]
     },
     "execution_count": 9,
     "metadata": {},
     "output_type": "execute_result"
    }
   ],
   "source": [
    "# each step should be checked\n",
    "tokens('This is a test input')"
   ]
  },
  {
   "cell_type": "code",
   "execution_count": 12,
   "id": "4be3aee5",
   "metadata": {},
   "outputs": [
    {
     "data": {
      "text/plain": [
       "1105285"
      ]
     },
     "execution_count": 12,
     "metadata": {},
     "output_type": "execute_result"
    }
   ],
   "source": [
    "#The lenght of out database\n",
    "WORDS = tokens(TEXT)\n",
    "len(WORDS)"
   ]
  },
  {
   "cell_type": "markdown",
   "id": "ca470a43",
   "metadata": {},
   "source": [
    "### 2 - Bag of Words"
   ]
  },
  {
   "cell_type": "code",
   "execution_count": 13,
   "id": "c916b1f8",
   "metadata": {},
   "outputs": [],
   "source": [
    "def sample(bag, n=10):\n",
    "    \"Sample a random n-word sentence from the model described by the bag of words.\"\n",
    "    return ' '.join(random.choice(bag) for _ in range(n))"
   ]
  },
  {
   "cell_type": "code",
   "execution_count": 14,
   "id": "aae292bb",
   "metadata": {},
   "outputs": [],
   "source": [
    "COUNTS = Counter(WORDS)"
   ]
  },
  {
   "cell_type": "markdown",
   "id": "e392b535",
   "metadata": {},
   "source": [
    "### 3 - Spell Cheker"
   ]
  },
  {
   "cell_type": "code",
   "execution_count": 17,
   "id": "af02ab09",
   "metadata": {},
   "outputs": [],
   "source": [
    "# c = correct(w)  - for each word w\n",
    "# 2 types - word is simmilar to out database(check and correct) & word is unknowm and we are taking the most popular simmilar to"
   ]
  },
  {
   "cell_type": "code",
   "execution_count": 18,
   "id": "aca69373",
   "metadata": {},
   "outputs": [],
   "source": [
    "def correct(word):\n",
    "    \"Serch of best check for word.\"\n",
    "    #  edit_distance==0, then 1, then 2; or leave the word\".\n",
    "    candidates = (known(edits0(word)) or \n",
    "                  known(edits1(word)) or \n",
    "                  known(edits2(word)) or \n",
    "                  [word])\n",
    "    return max(candidates, key=COUNTS.get)"
   ]
  },
  {
   "cell_type": "code",
   "execution_count": 19,
   "id": "6857bc38",
   "metadata": {},
   "outputs": [],
   "source": [
    "def known(words):\n",
    "    \"Return the subset of words in database.\"\n",
    "    return {w for w in words if w in COUNTS}\n",
    "\n",
    "def edits0(word): \n",
    "    \"return the word edit_distant=0.\"\n",
    "    return {word}\n",
    "\n",
    "def edits2(word):\n",
    "    \"Edit_distand = 2\"\n",
    "    return {e2 for e1 in edits1(word) for e2 in edits1(e1)}"
   ]
  },
  {
   "cell_type": "code",
   "execution_count": 20,
   "id": "269e6072",
   "metadata": {},
   "outputs": [],
   "source": [
    "def edits1(word):\n",
    "    \"Edit_distant = 1.\"\n",
    "    pairs      = splits(word)\n",
    "    deletes    = [a+b[1:]           for (a, b) in pairs if b]\n",
    "    transposes = [a+b[1]+b[0]+b[2:] for (a, b) in pairs if len(b) > 1]\n",
    "    replaces   = [a+c+b[1:]         for (a, b) in pairs for c in alphabet if b]\n",
    "    inserts    = [a+c+b             for (a, b) in pairs for c in alphabet]\n",
    "    return set(deletes + transposes + replaces + inserts)\n",
    "\n",
    "def splits(word):\n",
    "    \"Splitting the word to subset a b(a+b = word).\"\n",
    "    return [(word[:i], word[i:]) \n",
    "            for i in range(len(word)+1)]\n",
    "\n",
    "alphabet = 'abcdefghijklmnopqrstuvwxyz'"
   ]
  },
  {
   "cell_type": "markdown",
   "id": "c397a6d8",
   "metadata": {},
   "source": [
    "##### tests"
   ]
  },
  {
   "cell_type": "code",
   "execution_count": 25,
   "id": "10033c30",
   "metadata": {},
   "outputs": [
    {
     "data": {
      "text/plain": [
       "[('', 'home'), ('h', 'ome'), ('ho', 'me'), ('hom', 'e'), ('home', '')]"
      ]
     },
     "execution_count": 25,
     "metadata": {},
     "output_type": "execute_result"
    }
   ],
   "source": [
    "splits('home')"
   ]
  },
  {
   "cell_type": "code",
   "execution_count": 26,
   "id": "7b0c4298",
   "metadata": {},
   "outputs": [
    {
     "data": {
      "text/plain": [
       "{'home'}"
      ]
     },
     "execution_count": 26,
     "metadata": {},
     "output_type": "execute_result"
    }
   ],
   "source": [
    "edits0('home')"
   ]
  },
  {
   "cell_type": "code",
   "execution_count": 30,
   "id": "ee19c0f4",
   "metadata": {},
   "outputs": [
    {
     "name": "stdout",
     "output_type": "stream",
     "text": [
      "{'homeo', 'homh', 'zhome', 'homve', 'homv', 'homx', 'chome', 'huome', 'homoe', 'homwe', 'phome', 'rome', 'hoke', 'hoxe', 'homz', 'homl', 'some', 'homev', 'homei', 'hofe', 'hoye', 'homje', 'homo', 'hole', 'hlome', 'vhome', 'vome', 'homej', 'homq', 'hoxme', 'homye', 'hyme', 'hozme', 'homb', 'hgme', 'hokme', 'hobme', 'home', 'hume', 'hofme', 'howme', 'hosme', 'homae', 'homc', 'hwome', 'homel', 'homu', 'hhme', 'dome', 'hojme', 'hgome', 'homse', 'lome', 'yome', 'homp', 'lhome', 'hzome', 'homfe', 'ahome', 'hcome', 'nome', 'hyome', 'hohe', 'homeh', 'mhome', 'hpme', 'hope', 'hogme', 'homes', 'hoze', 'homeq', 'fome', 'hsome', 'hzme', 'hoce', 'hame', 'khome', 'xhome', 'homeb', 'hopme', 'hone', 'oome', 'hove', 'hoae', 'homed', 'homf', 'hoome', 'hxome', 'thome', 'hovme', 'hme', 'rhome', 'hqome', 'homeu', 'aome', 'bhome', 'homxe', 'homey', 'hoge', 'homk', 'homi', 'homie', 'hbme', 'ihome', 'kome', 'hjme', 'hrome', 'hmome', 'hotme', 'ohme', 'hmme', 'hoyme', 'homue', 'homep', 'hqme', 'ome', 'hdome', 'homen', 'houme', 'mome', 'homt', 'homeg', 'hoe', 'hote', 'homa', 'hrme', 'shome', 'hocme', 'homef', 'fhome', 'come', 'homne', 'hiome', 'homet', 'horme', 'hbome', 'htme', 'gome', 'homde', 'homex', 'homw', 'hom', 'dhome', 'hdme', 'hhome', 'honme', 'yhome', 'homs', 'hxme', 'homke', 'hode', 'homg', 'eome', 'houe', 'homez', 'hfme', 'homte', 'homce', 'hoem', 'heme', 'homew', 'hime', 'bome', 'homr', 'homge', 'holme', 'hooe', 'homer', 'homee', 'xome', 'ohome', 'homd', 'ehome', 'hose', 'homec', 'howe', 'homea', 'pome', 'wome', 'qhome', 'homhe', 'jome', 'homy', 'whome', 'hobe', 'zome', 'hnome', 'tome', 'ghome', 'qome', 'nhome', 'hvme', 'hompe', 'hkme', 'hjome', 'homle', 'hoime', 'heome', 'hore', 'hmoe', 'uome', 'hoie', 'homek', 'hcme', 'hoqme', 'homn', 'hvome', 'uhome', 'hoee', 'hfome', 'hlme', 'hsme', 'hodme', 'homqe', 'hpome', 'hnme', 'homre', 'hkome', 'hoeme', 'homem', 'haome', 'hohme', 'htome', 'hombe', 'hwme', 'homj', 'iome', 'homm', 'homme', 'hoame', 'jhome', 'hoje', 'homze', 'hoqe'}\n"
     ]
    }
   ],
   "source": [
    "print(edits1('home'))"
   ]
  },
  {
   "cell_type": "code",
   "execution_count": 31,
   "id": "70ec04bb",
   "metadata": {},
   "outputs": [
    {
     "name": "stdout",
     "output_type": "stream",
     "text": [
      "24254\n"
     ]
    }
   ],
   "source": [
    "print(len(edits2('home')))"
   ]
  },
  {
   "cell_type": "code",
   "execution_count": 33,
   "id": "d3e49004",
   "metadata": {},
   "outputs": [
    {
     "data": {
      "text/plain": [
       "['whatver', 'tet', 'si', 'ir', 'wuo', 'd', 'eb', 'corected']"
      ]
     },
     "execution_count": 33,
     "metadata": {},
     "output_type": "execute_result"
    }
   ],
   "source": [
    "test = tokens(\"Whatver tet si, ir wuo;d eb corected\")"
   ]
  },
  {
   "cell_type": "code",
   "execution_count": 40,
   "id": "0c977b3d",
   "metadata": {},
   "outputs": [
    {
     "data": {
      "text/plain": [
       "['whatever', 'text', 'is', 'in', 'it', 'would', 'be', 'corrected']"
      ]
     },
     "execution_count": 40,
     "metadata": {},
     "output_type": "execute_result"
    }
   ],
   "source": [
    "list(map(correct, tokens(\"Whatver text is in< it wold eb corected\")))"
   ]
  },
  {
   "cell_type": "markdown",
   "id": "2e99aad5",
   "metadata": {},
   "source": [
    "##### func to save the register"
   ]
  },
  {
   "cell_type": "code",
   "execution_count": 41,
   "id": "65485adf",
   "metadata": {},
   "outputs": [],
   "source": [
    "def correct_text(text):    \n",
    "    return re.sub('[a-zA-Z]+', correct_match, text)\n",
    "\n",
    "def correct_match(match):\n",
    "    \"Register\"\n",
    "    word = match.group()\n",
    "    return case_of(word)(correct(word.lower()))\n",
    "\n",
    "def case_of(text):\n",
    "    \"Func register returns\"\n",
    "    return (str.upper if text.isupper() else\n",
    "            str.lower if text.islower() else\n",
    "            str.title if text.istitle() else\n",
    "            str)"
   ]
  },
  {
   "cell_type": "code",
   "execution_count": 43,
   "id": "c5ad4a43",
   "metadata": {},
   "outputs": [
    {
     "data": {
      "text/plain": [
       "'Nothing IS forever'"
      ]
     },
     "execution_count": 43,
     "metadata": {},
     "output_type": "execute_result"
    }
   ],
   "source": [
    "correct_text(\"Nothing IS foreveR\")"
   ]
  },
  {
   "cell_type": "code",
   "execution_count": 44,
   "id": "77ffd28f",
   "metadata": {},
   "outputs": [
    {
     "data": {
      "text/plain": [
       "'nothisgisforever'"
      ]
     },
     "execution_count": 44,
     "metadata": {},
     "output_type": "execute_result"
    }
   ],
   "source": [
    "correct_text(\"NothisgISforever\")"
   ]
  },
  {
   "cell_type": "code",
   "execution_count": 45,
   "id": "2f185da3",
   "metadata": {},
   "outputs": [],
   "source": [
    "#lets add the func to corret the splits of the words"
   ]
  },
  {
   "cell_type": "code",
   "execution_count": 46,
   "id": "ddc6e6cc",
   "metadata": {},
   "outputs": [],
   "source": [
    "def memo(f):\n",
    "    cache = {}\n",
    "    def fmemo(*args):\n",
    "        if args not in cache:\n",
    "            cache[args] = f(*args)\n",
    "        return cache[args]\n",
    "    fmemo.cache = cache\n",
    "    return fmemo"
   ]
  },
  {
   "cell_type": "code",
   "execution_count": 48,
   "id": "8c603f3c",
   "metadata": {},
   "outputs": [],
   "source": [
    "def splits(text, start=0, L=20):\n",
    "    return [(text[:i], text[i:]) \n",
    "            for i in range(start, min(len(text), L)+1)]"
   ]
  },
  {
   "cell_type": "code",
   "execution_count": 49,
   "id": "d0d30aca",
   "metadata": {},
   "outputs": [],
   "source": [
    "@memo\n",
    "def segment(text):\n",
    "\n",
    "    if not text: \n",
    "        return []\n",
    "    else:\n",
    "        candidates = ([first] + segment(rest) \n",
    "                      for (first, rest) in splits(text, 1))\n",
    "        return max(candidates, key=Pwords)"
   ]
  },
  {
   "cell_type": "code",
   "execution_count": 61,
   "id": "29735b00",
   "metadata": {},
   "outputs": [],
   "source": [
    "def pdist(counter):\n",
    "    N = sum(list(counter.values()))\n",
    "    return lambda x: counter[x]/N\n",
    "\n",
    "P = pdist(COUNTS)\n",
    "\n",
    "def Pwords(words):\n",
    "    \"Probability of the words\"\n",
    "    return product(P(w) for w in words)\n",
    "\n",
    "def product(nums):\n",
    "    \"Перемножим числа.  (Это как `sum`, только с умножением.)\"\n",
    "    result = 1\n",
    "    for x in nums:\n",
    "        result *= x\n",
    "    return result"
   ]
  },
  {
   "cell_type": "markdown",
   "id": "b8610c0d",
   "metadata": {},
   "source": [
    "##### Test"
   ]
  },
  {
   "cell_type": "code",
   "execution_count": 62,
   "id": "0f279313",
   "metadata": {},
   "outputs": [
    {
     "name": "stdout",
     "output_type": "stream",
     "text": [
      "['N', 'o', 't', 'h', 'i', 'n', 'g', 'I', 'S', 'forever']\n"
     ]
    }
   ],
   "source": [
    "decl = 'NothingISforever'\n",
    "print(segment(decl))"
   ]
  },
  {
   "cell_type": "code",
   "execution_count": null,
   "id": "2cc3e4e7",
   "metadata": {},
   "outputs": [],
   "source": []
  },
  {
   "cell_type": "code",
   "execution_count": 64,
   "id": "f696e814",
   "metadata": {},
   "outputs": [],
   "source": [
    "##### Lets make the database more widther"
   ]
  },
  {
   "cell_type": "code",
   "execution_count": 65,
   "id": "647b7164",
   "metadata": {},
   "outputs": [],
   "source": [
    "def load_counts(text, sep='\\t'):\n",
    "    C = Counter()\n",
    "    for i in [l.split('\\t') for l in text.split('\\n')][:-1]:\n",
    "        key, count = i\n",
    "        C[key] = int(count)\n",
    "    return C"
   ]
  },
  {
   "cell_type": "code",
   "execution_count": 66,
   "id": "03a21933",
   "metadata": {},
   "outputs": [
    {
     "name": "stdout",
     "output_type": "stream",
     "text": [
      "333333 588.124220187\n",
      "286358 225.955251755\n"
     ]
    }
   ],
   "source": [
    "COUNTS1 = load_counts(requests.get('https://www.norvig.com/ngrams/count_1w.txt').text)\n",
    "COUNTS2 = load_counts(requests.get('https://www.norvig.com/ngrams/count_2w.txt').text)\n",
    "print(len(COUNTS1), sum(list(COUNTS1.values()))/1e9)\n",
    "print(len(COUNTS2), sum(list(COUNTS2.values()))/1e9)"
   ]
  },
  {
   "cell_type": "markdown",
   "id": "c2fb9f86",
   "metadata": {},
   "source": [
    "# Validation"
   ]
  },
  {
   "cell_type": "code",
   "execution_count": 67,
   "id": "ca7f72a7",
   "metadata": {},
   "outputs": [],
   "source": [
    "def test_segmenter(segmenter, tests):\n",
    "    \"\"\n",
    "    return sum([test_one_segment(segmenter, test) \n",
    "               for test in tests]), len(tests)\n",
    "\n",
    "def test_one_segment(segmenter, test):\n",
    "    words = tokens(test)\n",
    "    result = segmenter(''.join(words))\n",
    "    correct = (result == words)\n",
    "    if not correct:\n",
    "        print('expected', words)\n",
    "        print('got     ', result) \n",
    "    return correct\n",
    "\n",
    "proverbs = (\"\"\"A little knowledge is a dangerous thing\n",
    "  A man who is his own lawyer has a fool for his client\n",
    "  All work and no play makes Jack a dull boy\n",
    "  Better to remain silent and be thought a fool that to speak and remove all doubt;\n",
    "  Do unto others as you would have them do to you\n",
    "  Early to bed and early to rise, makes a man healthy, wealthy and wise\n",
    "  Fools rush in where angels fear to tread\n",
    "  Genius is one percent inspiration, ninety-nine percent perspiration\n",
    "  If you lie down with dogs, you will get up with fleas\n",
    "  Lightning never strikes twice in the same place\n",
    "  Power corrupts; absolute power corrupts absolutely\n",
    "  Here today, gone tomorrow\n",
    "  See no evil, hear no evil, speak no evil\n",
    "  Sticks and stones may break my bones, but words will never hurt me\n",
    "  Take care of the pence and the pounds will take care of themselves\n",
    "  Take care of the sense and the sounds will take care of themselves\n",
    "  The bigger they are, the harder they fall\n",
    "  The grass is always greener on the other side of the fence\n",
    "  The more things change, the more they stay the same\n",
    "  Those who do not learn from history are doomed to repeat it\"\"\"\n",
    "  .splitlines())"
   ]
  },
  {
   "cell_type": "code",
   "execution_count": 70,
   "id": "edb133e2",
   "metadata": {},
   "outputs": [
    {
     "name": "stdout",
     "output_type": "stream",
     "text": [
      "expected ['power', 'corrupts', 'absolute', 'power', 'corrupts', 'absolutely']\n",
      "got      ['power', 'corrupt', 's', 'absolute', 'power', 'corrupt', 's', 'absolutely']\n",
      "expected ['the', 'grass', 'is', 'always', 'greener', 'on', 'the', 'other', 'side', 'of', 'the', 'fence']\n",
      "got      ['the', 'grass', 'is', 'always', 'green', 'er', 'on', 'the', 'other', 'side', 'of', 'the', 'fence']\n"
     ]
    },
    {
     "data": {
      "text/plain": [
       "(18, 20)"
      ]
     },
     "execution_count": 70,
     "metadata": {},
     "output_type": "execute_result"
    }
   ],
   "source": [
    "test_segmenter(segment, proverbs)"
   ]
  },
  {
   "cell_type": "code",
   "execution_count": 71,
   "id": "a727454d",
   "metadata": {},
   "outputs": [
    {
     "data": {
      "text/plain": [
       "['this',\n",
       " 'is',\n",
       " 'a',\n",
       " 'test',\n",
       " 'of',\n",
       " 'segment',\n",
       " 'at',\n",
       " 'i',\n",
       " 'on',\n",
       " 'of',\n",
       " 'along',\n",
       " 'sequence',\n",
       " 'of',\n",
       " 'words']"
      ]
     },
     "execution_count": 71,
     "metadata": {},
     "output_type": "execute_result"
    }
   ],
   "source": [
    "segment('thisisatestofsegmentationofalongsequenceofwords')"
   ]
  },
  {
   "cell_type": "code",
   "execution_count": 76,
   "id": "44e8f654",
   "metadata": {
    "scrolled": true
   },
   "outputs": [
    {
     "data": {
      "text/plain": [
       "(array([  51.,  159.,  368.,  747., 1113., 1357., 1356., 1175.,  938.,\n",
       "         627.,  398.,  215.,  112.,   37.,   10.,    7.]),\n",
       " array([ 2.    ,  2.9375,  3.875 ,  4.8125,  5.75  ,  6.6875,  7.625 ,\n",
       "         8.5625,  9.5   , 10.4375, 11.375 , 12.3125, 13.25  , 14.1875,\n",
       "        15.125 , 16.0625, 17.    ]),\n",
       " <BarContainer object of 16 artists>)"
      ]
     },
     "execution_count": 76,
     "metadata": {},
     "output_type": "execute_result"
    },
    {
     "data": {
      "image/png": "[encoded data removed]",
      "text/plain": [
       "<Figure size 432x288 with 1 Axes>"
      ]
     },
     "metadata": {
      "needs_background": "light"
     },
     "output_type": "display_data"
    }
   ],
   "source": [
    "#Just a vizualisation of most common words of each lenghth\n",
    "singletons = (w for w in COUNTS if COUNTS[w] == 1)\n",
    "lengths = list(map(len, singletons))\n",
    "Counter(lengths).most_common()\n",
    "hist(lengths, bins=len(set(lengths)))"
   ]
  },
  {
   "cell_type": "code",
   "execution_count": null,
   "id": "7d42f618",
   "metadata": {},
   "outputs": [],
   "source": []
  }
 ],
 "metadata": {
  "kernelspec": {
   "display_name": "Python 3 (ipykernel)",
   "language": "python",
   "name": "python3"
  },
  "language_info": {
   "codemirror_mode": {
    "name": "ipython",
    "version": 3
   },
   "file_extension": ".py",
   "mimetype": "text/x-python",
   "name": "python",
   "nbconvert_exporter": "python",
   "pygments_lexer": "ipython3",
   "version": "3.9.10"
  }
 },
 "nbformat": 4,
 "nbformat_minor": 5
}
